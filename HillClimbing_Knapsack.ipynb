{
  "nbformat": 4,
  "nbformat_minor": 0,
  "metadata": {
    "colab": {
      "provenance": [],
      "collapsed_sections": [
        "Q-pfvMBRyxkW"
      ]
    },
    "kernelspec": {
      "name": "python3",
      "display_name": "Python 3"
    },
    "language_info": {
      "name": "python"
    }
  },
  "cells": [
    {
      "cell_type": "markdown",
      "source": [
        "#### Sample Class (Ignore Me)"
      ],
      "metadata": {
        "id": "Q-pfvMBRyxkW"
      }
    },
    {
      "cell_type": "code",
      "execution_count": null,
      "metadata": {
        "id": "guC2IfonI1VX"
      },
      "outputs": [],
      "source": [
        "import numpy as np\n",
        "import copy\n",
        "\n",
        "class Solution(object):\n",
        "  def __init__(self, arr, values, weights):\n",
        "    self.solution = arr\n",
        "    self.values = values\n",
        "    self.weights = weights\n",
        "\n",
        "  def get_value(self):\n",
        "    return np.matmul(self.solution, self.values)\n",
        "\n",
        "  def get_weight(self):\n",
        "    return np.matmul(self.solution, self.weights)\n",
        "\n",
        "def get_neighbors(solution, values, weights):\n",
        "  neighbors = Solution([], values, weights)\n",
        "  for i in range(len(solution)):\n",
        "    new_neighbor = copy.deepcopy(solution)\n",
        "\n",
        "    if new_neighbor[i] == 1:\n",
        "      new_neighbor[i] = 0\n",
        "    else:\n",
        "      new_neighbor[i] = 1\n",
        "    neighbors.append(new_neighbor)\n",
        "\n",
        "  return neighbors"
      ]
    },
    {
      "cell_type": "code",
      "source": [
        "values = np.array([89, 90, 30, 50, 90, 79, 90, 10])\n",
        "weights = np.array([123, 154, 258, 354, 365, 150, 95, 195])\n",
        "initial_soln = Solution([0, 1, 0, 0, 1, 0, 0, 0], values, weights)"
      ],
      "metadata": {
        "id": "qqqOpZ-MJhU3"
      },
      "execution_count": null,
      "outputs": []
    },
    {
      "cell_type": "code",
      "source": [
        "initial_soln.get_value(), initial_soln.get_weight()"
      ],
      "metadata": {
        "colab": {
          "base_uri": "https://localhost:8080/"
        },
        "id": "i26Tr2GnJ1hu",
        "outputId": "7b2bf64a-ca2f-48a0-baa0-eeb110dd3b24"
      },
      "execution_count": null,
      "outputs": [
        {
          "output_type": "execute_result",
          "data": {
            "text/plain": [
              "(180, 519)"
            ]
          },
          "metadata": {},
          "execution_count": 4
        }
      ]
    },
    {
      "cell_type": "markdown",
      "source": [
        "### Knapsack Problem"
      ],
      "metadata": {
        "id": "JzyLVvI-y0Yh"
      }
    },
    {
      "cell_type": "code",
      "source": [
        "# packages\n",
        "import numpy as np\n",
        "import copy\n",
        "import random"
      ],
      "metadata": {
        "id": "Ab--VSOnz7hW"
      },
      "execution_count": 1,
      "outputs": []
    },
    {
      "cell_type": "markdown",
      "source": [
        "#### Helper Functions (run me first)"
      ],
      "metadata": {
        "id": "AkJbEI77y_ks"
      }
    },
    {
      "cell_type": "code",
      "source": [
        "def get_value(soln, values):\n",
        "  return np.matmul(soln, values)\n",
        "\n",
        "def get_weight(soln, weights):\n",
        "  return np.matmul(soln, weights)\n",
        "\n",
        "def get_order(limit, minimization=False):\n",
        "  if minimization:\n",
        "    return 1\n",
        "  else:\n",
        "    return -1\n",
        "\n",
        "def generate_init_soln(size, values, limit, minimization=False, method='Random'):\n",
        "  \"\"\"\n",
        "  Parameter\n",
        "  -----------\n",
        "  size: Number of decision variables\n",
        "  method: 'Random' or 'Greedy Search'\n",
        "\n",
        "  Returns\n",
        "  -----------\n",
        "  `np.ndarray` initial solution.\n",
        "\n",
        "  \"\"\"\n",
        "\n",
        "  order = get_order(limit, minimization)\n",
        "\n",
        "  if method == \"Random\":\n",
        "    feasibility = False\n",
        "    while feasibility == False:\n",
        "      initial_soln = np.random.randint(0, 2, size)\n",
        "      w = get_weight(initial_soln, weights)\n",
        "      if order*w >= order*limit:\n",
        "        feasibility = True\n",
        "\n",
        "  if method == 'Greedy Search':\n",
        "    indices = values.argsort()[::order]\n",
        "    initial_soln = np.zeros(size)\n",
        "    new_init_soln = initial_soln\n",
        "\n",
        "    for ind in range(len(indices)):\n",
        "      new_init_soln = copy.deepcopy(new_init_soln)\n",
        "      new_init_soln[indices[ind]] = 1\n",
        "      w = get_weight(new_init_soln, weights)\n",
        "      if order*w >= order*limit:\n",
        "        initial_soln[indices[ind]] = 1\n",
        "      else:\n",
        "        break\n",
        "\n",
        "  return initial_soln\n",
        "\n",
        "def generate_neighbors(soln):\n",
        "  neighbors = []\n",
        "  for i in range(len(soln)):\n",
        "    new_neighbor = copy.deepcopy(soln)\n",
        "    if new_neighbor[i] == 1:\n",
        "      new_neighbor[i] = 0\n",
        "    else:\n",
        "      new_neighbor[i] = 1\n",
        "    neighbors.append(new_neighbor)\n",
        "  return neighbors\n",
        "\n",
        "def select_best_neighbor(neighbors, values, weights, limit, minimization=False):\n",
        "  order = get_order(limit, minimization)\n",
        "  nb_values, nb_weights = get_value(neighbors, values), get_weight(neighbors, weights)\n",
        "\n",
        "\n",
        "  filtered_inds = np.where(order*nb_weights >= order*limit)[0]\n",
        "  feasible_nb = [neighbors[i] for i in filtered_inds]\n",
        "\n",
        "  if minimization:\n",
        "    best_ind = np.argmin(get_value(feasible_nb, values))\n",
        "  else:\n",
        "    best_ind = np.argmax(get_value(feasible_nb, values))\n",
        "\n",
        "  return feasible_nb[best_ind]\n",
        "\n",
        "def compare_solns(incumbent_soln, best_nb, values, weights, limit, continue_iter=True):\n",
        "  order = get_order(limit)\n",
        "  prev_value, new_value = get_value(incumbent_soln, values), get_value(best_nb, values)\n",
        "\n",
        "  if order*prev_value <= order*new_value:\n",
        "    continue_iter = False\n",
        "  return continue_iter\n",
        "\n",
        "def optimal_soln(incumbent_soln, labels):\n",
        "  opt_labels = []\n",
        "  for i in range(len(incumbent_soln)):\n",
        "    if incumbent_soln[i] == 1:\n",
        "      opt_labels.append(labels[i])\n",
        "\n",
        "  return opt_labels"
      ],
      "metadata": {
        "id": "6UEX7G05y3N4"
      },
      "execution_count": 10,
      "outputs": []
    },
    {
      "cell_type": "markdown",
      "source": [
        "#### Complete Implementation"
      ],
      "metadata": {
        "id": "ClBKIj98I0Hc"
      }
    },
    {
      "cell_type": "code",
      "source": [
        "# ---- Parameters\n",
        "numVar = 8\n",
        "labels = ['wine', 'beer', 'pizza', 'burger', 'fries', 'coke', 'apple', 'donut']\n",
        "values = np.array([89, 90, 30, 50, 90, 79, 90, 10])\n",
        "weights = np.array([123, 154, 258, 354, 365, 150, 95, 195])\n",
        "max_weight = 750\n",
        "minimization = False\n",
        "\n",
        "continue_iter = True\n",
        "iter_count = 0\n",
        "\n",
        "init_soln = generate_init_soln(size=numVar, values=values, limit=max_weight, method='Random')\n",
        "print(f'Initial solution: {init_soln} \\n value = {get_value(init_soln, values)}, weight = {get_weight(init_soln, weights)} \\n')\n",
        "\n",
        "incumbent_soln = init_soln\n",
        "\n",
        "while continue_iter:\n",
        "  print(f'ITERATION {iter_count+1}: --------- \\n')\n",
        "\n",
        "  # generating neighbors\n",
        "  neighbors = generate_neighbors(incumbent_soln)\n",
        "  print(f'Neighbors: \\n values = {get_value(neighbors, values)} \\n weights = {get_weight(neighbors, weights)} \\n')\n",
        "\n",
        "  # selecting best neighbor\n",
        "  best_nb = select_best_neighbor(neighbors, values, weights, max_weight)\n",
        "  print(f'Best neighbor: {best_nb} \\n value = {get_value(best_nb, values)} \\n weight = {get_weight(best_nb, weights)} \\n')\n",
        "\n",
        "  # compare incumbent solution and best neighbor\n",
        "  continue_iter = compare_solns(incumbent_soln, best_nb, values, weights, max_weight)\n",
        "  if continue_iter:\n",
        "    incumbent_soln = best_nb\n",
        "\n",
        "  print(f'Incumbent solution: {incumbent_soln} \\n value = {get_value(incumbent_soln, values)} \\n weight = {get_weight(incumbent_soln, weights)} \\n')\n",
        "  iter_count += 1\n",
        "\n",
        "print('--------------------------------------------')\n",
        "print(f'After {iter_count} iteration(s), optimal solution to include \\n {optimal_soln(incumbent_soln, labels)} \\n value = {get_value(incumbent_soln, values)} \\n weight = {get_weight(incumbent_soln, weights)} \\n')"
      ],
      "metadata": {
        "colab": {
          "base_uri": "https://localhost:8080/"
        },
        "id": "mdAnivPbIzra",
        "outputId": "eaf7b6f5-74b6-4559-bc17-f5971c18001e"
      },
      "execution_count": 11,
      "outputs": [
        {
          "output_type": "stream",
          "name": "stdout",
          "text": [
            "Initial solution: [0 0 1 0 1 0 0 0] \n",
            " value = 120, weight = 623 \n",
            "\n",
            "ITERATION 1: --------- \n",
            "\n",
            "Neighbors: \n",
            " values = [209 210  90 170  30 199 210 130] \n",
            " weights = [746 777 365 977 258 773 718 818] \n",
            "\n",
            "Best neighbor: [0 0 1 0 1 0 1 0] \n",
            " value = 210 \n",
            " weight = 718 \n",
            "\n",
            "Incumbent solution: [0 0 1 0 1 0 1 0] \n",
            " value = 210 \n",
            " weight = 718 \n",
            "\n",
            "ITERATION 2: --------- \n",
            "\n",
            "Neighbors: \n",
            " values = [299 300 180 260 120 289 120 220] \n",
            " weights = [ 841  872  460 1072  353  868  623  913] \n",
            "\n",
            "Best neighbor: [0 0 0 0 1 0 1 0] \n",
            " value = 180 \n",
            " weight = 460 \n",
            "\n",
            "Incumbent solution: [0 0 1 0 1 0 1 0] \n",
            " value = 210 \n",
            " weight = 718 \n",
            "\n",
            "--------------------------------------------\n",
            "After 2 iteration(s), optimal solution to include \n",
            " ['pizza', 'fries', 'apple'] \n",
            " value = 210 \n",
            " weight = 718 \n",
            "\n"
          ]
        }
      ]
    },
    {
      "cell_type": "code",
      "source": [],
      "metadata": {
        "id": "tS-2bEBKPULC"
      },
      "execution_count": null,
      "outputs": []
    }
  ]
}