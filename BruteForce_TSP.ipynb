{
 "cells": [
  {
   "cell_type": "markdown",
   "metadata": {},
   "source": [
    "## Solving Travelling Salesman Problem using Brute Force Enumeration"
   ]
  },
  {
   "cell_type": "code",
   "execution_count": 10,
   "metadata": {},
   "outputs": [],
   "source": [
    "import numpy as np\n",
    "from itertools import permutations"
   ]
  },
  {
   "cell_type": "code",
   "execution_count": 26,
   "metadata": {},
   "outputs": [],
   "source": [
    "def get_order(minimization):\n",
    "    if minimization:\n",
    "        return 1\n",
    "    else:\n",
    "        return -1\n",
    "def routeCost(cost_matrix, solution):\n",
    "    routeCost = 0\n",
    "    for i in range(len(solution)):\n",
    "        routeCost += cost_matrix[solution[i-1]][solution[i]]\n",
    "    return routeCost\n",
    "\n",
    "def optimalSoln(solution, nodeLabels, startingNode):\n",
    "    optSoln = []\n",
    "    ind = np.where(np.array(solution) == startingNode)[0][0]\n",
    "    for i in range(ind, len(solution)):\n",
    "        optSoln.append(i)\n",
    "    for i in range(ind):\n",
    "        optSoln.append(i)\n",
    "    optimal_ind = [solution[i] for i in optSoln]\n",
    "    optimal_ind.append(optimal_ind[0])\n",
    "    return [nodeLabels[k] for k in optimal_ind]\n"
   ]
  },
  {
   "cell_type": "code",
   "execution_count": 29,
   "metadata": {},
   "outputs": [
    {
     "name": "stdout",
     "output_type": "stream",
     "text": [
      "Using Brute Force Enumeration\n",
      "Optimal Solution: (5, 4, 0, 3, 1, 2) \n",
      " Route Cost: 116\n"
     ]
    }
   ],
   "source": [
    "# Parameters\n",
    "cost_matrix = [\n",
    "    [0, 19, 14, 11, 23, 24],\n",
    "    [24, 0, 12, 30, 30, 19],\n",
    "    [40, 42, 0, 20, 36, 15],\n",
    "    [20, 35, 37, 0, 45, 33],\n",
    "    [15, 26, 18, 25, 0, 30],\n",
    "    [22, 17, 14, 30, 28, 0]\n",
    "]\n",
    "numVars = len(cost_matrix)\n",
    "nodeLabels = [\"A\", \"B\", \"C\", \"D\", \"E\", \"F\"]\n",
    "costLimit = np.inf  # no limit\n",
    "minimization = True\n",
    "# brute force enumeration\n",
    "cities = list(range(numVars))\n",
    "allSolutions = list(permutations(cities, numVars))\n",
    "\n",
    "# removing infeasible solutions\n",
    "order = get_order(minimization)\n",
    "solnCosts = [routeCost(cost_matrix, soln) for soln in allSolutions]\n",
    "inds = np.where(order*np.array(solnCosts) <= order*costLimit)[0]\n",
    "feasibleSolns = [allSolutions[i] for i in inds]\n",
    "\n",
    "# sorting values and finding optimal solution\n",
    "solnCosts = [routeCost(cost_matrix, soln) for soln in feasibleSolns]\n",
    "sortedInds = np.array(solnCosts).argsort()[::order]\n",
    "optimal = feasibleSolns[sortedInds[0]]\n",
    "print(f'Using Brute Force Enumeration')\n",
    "print(f'Optimal Solution: {optimal} \\n Route Cost: {solnCosts[sortedInds[0]]}')"
   ]
  }
 ],
 "metadata": {
  "kernelspec": {
   "display_name": "Python 3",
   "language": "python",
   "name": "python3"
  },
  "language_info": {
   "codemirror_mode": {
    "name": "ipython",
    "version": 3
   },
   "file_extension": ".py",
   "mimetype": "text/x-python",
   "name": "python",
   "nbconvert_exporter": "python",
   "pygments_lexer": "ipython3",
   "version": "3.10.5"
  }
 },
 "nbformat": 4,
 "nbformat_minor": 2
}
